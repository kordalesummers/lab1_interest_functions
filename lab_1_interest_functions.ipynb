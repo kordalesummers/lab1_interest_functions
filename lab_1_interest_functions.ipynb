{
  "nbformat": 4,
  "nbformat_minor": 0,
  "metadata": {
    "kernelspec": {
      "display_name": "Python 3",
      "language": "python",
      "name": "python3"
    },
    "language_info": {
      "codemirror_mode": {
        "name": "ipython",
        "version": 3
      },
      "file_extension": ".py",
      "mimetype": "text/x-python",
      "name": "python",
      "nbconvert_exporter": "python",
      "pygments_lexer": "ipython3",
      "version": "3.7.2"
    },
    "colab": {
      "name": "lab_1_interest_functions.ipynb",
      "provenance": []
    }
  },
  "cells": [
    {
      "cell_type": "markdown",
      "metadata": {
        "id": "zfu-hrbxupHa",
        "colab_type": "text"
      },
      "source": [
        "## Lab 1 - Compound Interest Functions\n",
        "\n",
        "Below you will find a table of important formulae related to compound interest.  \n",
        "\n",
        "<img src=\"https://www.dummies.com/wp-content/uploads/251689.image0.jpg\" alt=\"image0.jpg\" width=\"400\" height=\"319\">\n",
        "\n",
        "In this lab, you will create functions for each of these using (and documenting) the following workflow.\n",
        "\n",
        "1. Work out the correct answer for a few examples. *Hint* Search for e.g. \"worked out compound interest examples\" on the web.\n",
        "2. Write a `lambda` function and test this function on your test cases.\n",
        "3. Convert the `lambda` function to a `def` statement with an informative doc string that follows the [Google formating rules](https://google.github.io/styleguide/pyguide.html#383-functions-and-methods).\n",
        "4. Write an automated test function (using your previous examples) that will test your `def` statement function each time the code is executed."
      ]
    },
    {
      "cell_type": "markdown",
      "metadata": {
        "id": "26BDstthupHc",
        "colab_type": "text"
      },
      "source": [
        "#### Problem 1 -- Apply the process to create a simple interest functions."
      ]
    },
    {
      "cell_type": "code",
      "metadata": {
        "id": "PeDOmIwTupHd",
        "colab_type": "code",
        "colab": {
          "base_uri": "https://localhost:8080/",
          "height": 34
        },
        "outputId": "12ce2cb8-cfef-4ed5-89aa-fc5798f45553"
      },
      "source": [
        "4500.00 * 0.095 * 6.0"
      ],
      "execution_count": 5,
      "outputs": [
        {
          "output_type": "execute_result",
          "data": {
            "text/plain": [
              "2565.0"
            ]
          },
          "metadata": {
            "tags": []
          },
          "execution_count": 5
        }
      ]
    },
    {
      "cell_type": "code",
      "metadata": {
        "id": "zGAO5htQweVK",
        "colab_type": "code",
        "colab": {
          "base_uri": "https://localhost:8080/",
          "height": 34
        },
        "outputId": "bb7d80c5-49d5-485c-a100-b5f437771032"
      },
      "source": [
        "simp_interest = lambda principal, interest, time: principal*interest*time\n",
        "simp_interest(4500.00,0.095,6.0)"
      ],
      "execution_count": 10,
      "outputs": [
        {
          "output_type": "execute_result",
          "data": {
            "text/plain": [
              "2565.0"
            ]
          },
          "metadata": {
            "tags": []
          },
          "execution_count": 10
        }
      ]
    },
    {
      "cell_type": "code",
      "metadata": {
        "id": "YeNKwk-xxS6z",
        "colab_type": "code",
        "colab": {}
      },
      "source": [
        "def simp_interest(principal, interest, time):\n",
        "    \"\"\"Compute the interest earned over a set number of years\"\"\"\n",
        "    output = principal*interest*time\n",
        "    return output\n",
        "\n",
        "def test_simp_interest():\n",
        "    assert simp_interest(4500.0, 0.095, 6.0) == 2565.0\n",
        "test_simp_interest()"
      ],
      "execution_count": 17,
      "outputs": []
    },
    {
      "cell_type": "markdown",
      "metadata": {
        "id": "IJ10FPo8upHj",
        "colab_type": "text"
      },
      "source": [
        "#### Problem 2 -- Apply the process to create a compound interest functions."
      ]
    },
    {
      "cell_type": "code",
      "metadata": {
        "id": "iQZXXTpZupHj",
        "colab_type": "code",
        "colab": {
          "base_uri": "https://localhost:8080/",
          "height": 34
        },
        "outputId": "ec75c84e-a672-460e-c9c9-fd455ec7ca6a"
      },
      "source": [
        "1200*(1+(.1249/12))**(12*.5)"
      ],
      "execution_count": 23,
      "outputs": [
        {
          "output_type": "execute_result",
          "data": {
            "text/plain": [
              "1276.9172750653158"
            ]
          },
          "metadata": {
            "tags": []
          },
          "execution_count": 23
        }
      ]
    },
    {
      "cell_type": "code",
      "metadata": {
        "id": "dEpuNd4azpSk",
        "colab_type": "code",
        "colab": {
          "base_uri": "https://localhost:8080/",
          "height": 34
        },
        "outputId": "6074606d-e705-4998-97ea-c76e960b1ff6"
      },
      "source": [
        "comp_interest = lambda principal, rate, compoundings, years: principal*(1+(rate/compoundings))**(compoundings*years)\n",
        "comp_interest(1200, .1249, 12, .5)"
      ],
      "execution_count": 25,
      "outputs": [
        {
          "output_type": "execute_result",
          "data": {
            "text/plain": [
              "1276.9172750653158"
            ]
          },
          "metadata": {
            "tags": []
          },
          "execution_count": 25
        }
      ]
    },
    {
      "cell_type": "code",
      "metadata": {
        "id": "aAHLAL_k1H6i",
        "colab_type": "code",
        "colab": {}
      },
      "source": [
        "def comp_interest(principal, rate, compoundings, years):\n",
        "    \"\"\"Compute the compound interest over a set number of years\"\"\"\n",
        "    output = principal*(1+(rate/compoundings))**(compoundings*years)\n",
        "    return output\n",
        "\n",
        "def test_comp_interest():\n",
        "    assert comp_interest(1200, .1249, 12, .5) == 1276.9172750653158\n",
        "test_comp_interest()"
      ],
      "execution_count": 30,
      "outputs": []
    },
    {
      "cell_type": "markdown",
      "metadata": {
        "id": "lyE9Cfi0upHn",
        "colab_type": "text"
      },
      "source": [
        "#### Problem 3 -- Apply the process to create a amortized loan payment function."
      ]
    },
    {
      "cell_type": "code",
      "metadata": {
        "id": "fk-1Aa0YupHo",
        "colab_type": "code",
        "colab": {
          "base_uri": "https://localhost:8080/",
          "height": 34
        },
        "outputId": "fd35ea7c-5a95-4d21-e3ee-880972ac3a51"
      },
      "source": [
        "(225000*(.0325/12))/1-(1+(.0325/12))**-360"
      ],
      "execution_count": 32,
      "outputs": [
        {
          "output_type": "execute_result",
          "data": {
            "text/plain": [
              "608.9973102042972"
            ]
          },
          "metadata": {
            "tags": []
          },
          "execution_count": 32
        }
      ]
    },
    {
      "cell_type": "code",
      "metadata": {
        "id": "trECcLNn3exV",
        "colab_type": "code",
        "colab": {
          "base_uri": "https://localhost:8080/",
          "height": 34
        },
        "outputId": "ac4ca77f-621a-481f-9244-6e4b348fb199"
      },
      "source": [
        "amort_loan = lambda amount, interest, payments: (amount*interest)/1 - (1 + interest)**-payments\n",
        "amort_loan(225000, .0325/12, 360)"
      ],
      "execution_count": 36,
      "outputs": [
        {
          "output_type": "execute_result",
          "data": {
            "text/plain": [
              "608.9973102042972"
            ]
          },
          "metadata": {
            "tags": []
          },
          "execution_count": 36
        }
      ]
    },
    {
      "cell_type": "code",
      "metadata": {
        "id": "58y6-m264e_t",
        "colab_type": "code",
        "colab": {}
      },
      "source": [
        "def amort_loan(amount, interest, payments):\n",
        "    \"Compute the monthly payments on a mortgage loan\"\n",
        "    output = (amount*interest)/1 - (1 + interest)**-payments\n",
        "    return output\n",
        "\n",
        "def test_amort_loan():\n",
        "    assert amort_loan(225000, .0325/12, 360) == 608.9973102042972\n",
        "test_amort_loan()"
      ],
      "execution_count": 39,
      "outputs": []
    },
    {
      "cell_type": "markdown",
      "metadata": {
        "id": "tae7gXKsupHs",
        "colab_type": "text"
      },
      "source": [
        "#### Problem 4 -- Apply the process to create a remaining balance function"
      ]
    },
    {
      "cell_type": "code",
      "metadata": {
        "id": "Zm4r4reLupHs",
        "colab_type": "code",
        "colab": {
          "base_uri": "https://localhost:8080/",
          "height": 34
        },
        "outputId": "c76f61fa-4f26-4105-cd92-12297b25a975"
      },
      "source": [
        "1000*(1-(1+(.005))**-(12-10))/.005"
      ],
      "execution_count": 51,
      "outputs": [
        {
          "output_type": "execute_result",
          "data": {
            "text/plain": [
              "1985.0993787282166"
            ]
          },
          "metadata": {
            "tags": []
          },
          "execution_count": 51
        }
      ]
    },
    {
      "cell_type": "code",
      "metadata": {
        "id": "QPaUhT7q7XQ5",
        "colab_type": "code",
        "colab": {
          "base_uri": "https://localhost:8080/",
          "height": 34
        },
        "outputId": "2962e747-a2df-4737-e9d6-0d0b23c294d7"
      },
      "source": [
        "remain_balance = lambda regpay, interest, numpay, paidpay: regpay*(1-(1+(interest))**-(numpay-paidpay))/interest\n",
        "remain_balance(1000, .005, 12, 10)"
      ],
      "execution_count": 56,
      "outputs": [
        {
          "output_type": "execute_result",
          "data": {
            "text/plain": [
              "1985.0993787282166"
            ]
          },
          "metadata": {
            "tags": []
          },
          "execution_count": 56
        }
      ]
    },
    {
      "cell_type": "code",
      "metadata": {
        "id": "-tul16s_-Qia",
        "colab_type": "code",
        "colab": {}
      },
      "source": [
        "def remain_balance(regpay, interest, numpay, paidpay):\n",
        "    \"Compute the remaining loan balance after a set amount of years\"\n",
        "    output = regpay*(1-(1+(interest))**-(numpay-paidpay))/interest\n",
        "    return output\n",
        "\n",
        "def test_remain_balance():\n",
        "    assert remain_balance(1000, .005, 12, 10) == 1985.0993787282166\n",
        "test_remain_balance()"
      ],
      "execution_count": 58,
      "outputs": []
    }
  ]
}